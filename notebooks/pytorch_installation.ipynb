{
 "cells": [
  {
   "cell_type": "markdown",
   "metadata": {},
   "source": [
    "# Installing PyTorch for CPU and GPU on MacBook Pro M1 Using Poetry\n",
    "\n",
    "This document provides a step-by-step guide on how I successfully\n",
    "installed PyTorch for both **CPU and GPU (MPS backend)** using Poetry on\n",
    "my **MacBook Pro M1**. This approach should also work for colleagues\n",
    "using MacBooks **without GPU capabilities**, in which case PyTorch will\n",
    "default to using the CPU\n",
    "\n",
    "### 1. Install PyTorch\n",
    "To install PyTorch with **both CPU and GPU (MPS) support**, run:\n",
    "```bash\n",
    "poetry add torch torchvision torchaudio\n",
    "```\n",
    "This will install the latest compatible version of PyTorch.\n",
    "\n",
    "For **MacBooks without GPU capabilities**, the same command applies. PyTorch will automatically default to CPU execution if MPS is not available.\n",
    "\n",
    "## Verifying the Installation\n",
    "### 1. Check PyTorch Installation\n"
   ]
  },
  {
   "cell_type": "code",
   "execution_count": 1,
   "metadata": {},
   "outputs": [
    {
     "name": "stdout",
     "output_type": "stream",
     "text": [
      "2.7.0\n"
     ]
    }
   ],
   "source": [
    "import torch\n",
    "print(torch.__version__)"
   ]
  },
  {
   "cell_type": "markdown",
   "metadata": {},
   "source": [
    "This should print the installed PyTorch version.\n",
    "\n",
    "### 2. Check CPU and GPU Availability\n",
    "Run the following Python script to check if PyTorch is using the CPU or\n",
    "GPU (MPS):\n"
   ]
  },
  {
   "cell_type": "code",
   "execution_count": 2,
   "metadata": {},
   "outputs": [
    {
     "name": "stdout",
     "output_type": "stream",
     "text": [
      "PyTorch is running on: mps\n",
      "Tensor is on device: mps:0\n"
     ]
    }
   ],
   "source": [
    "import torch\n",
    "\n",
    "device = torch.device(\"mps\") if torch.backends.mps.is_available() else torch.device(\"cpu\")\n",
    "print(f\"PyTorch is running on: {device}\")\n",
    "\n",
    "# Create a test tensor\n",
    "x = torch.randn(5, 3).to(device)\n",
    "print(f\"Tensor is on device: {x.device}\")"
   ]
  },
  {
   "cell_type": "markdown",
   "metadata": {},
   "source": [
    "#### Expected Output:\n",
    "- If PyTorch detects the **MPS backend** (GPU support), the output will include:\n",
    "  ```\n",
    "  PyTorch is running on: mps\n",
    "  Tensor is on device: mps:0\n",
    "  ```\n",
    "- If running on a Mac **without GPU capabilities**, the output will default to:\n",
    "  ```\n",
    "  PyTorch is running on: cpu\n",
    "  Tensor is on device: cpu\n",
    "  ```\n",
    "\n",
    "## Notes and Troubleshooting\n",
    "- If you encounter any issues, ensure that your **macOS version is updated** and that **Xcode Command Line Tools** are installed using:\n",
    "  ```bash\n",
    "  xcode-select --install\n",
    "  ```\n",
    "- If MPS is not detected, try reinstalling PyTorch using:\n",
    "  ```bash\n",
    "  poetry remove torch torchvision torchaudio\n",
    "  poetry add torch torchvision torchaudio\n",
    "  ```\n",
    "- Some operations may not yet be optimized for MPS. If you experience issues, you can force PyTorch to use the CPU by explicitly setting `device = torch.device(\"cpu\")`.\n",
    "\n",
    "## Conclusion\n",
    "By following these steps, I successfully installed PyTorch using **Poetry** on my **MacBook Pro M1**, enabling both CPU and GPU computation via the MPS backend. The same process applies to colleagues using MacBooks **without GPU capabilities**, where PyTorch will automatically default to the CPU.\n",
    "\n",
    "For any additional configuration or troubleshooting, refer to the official [PyTorch documentation](https://pytorch.org/get-started/locally/)."
   ]
  }
 ],
 "metadata": {
  "kernelspec": {
   "display_name": "sc-qrels-egSOw74g-py3.10",
   "language": "python",
   "name": "python3"
  },
  "language_info": {
   "codemirror_mode": {
    "name": "ipython",
    "version": 3
   },
   "file_extension": ".py",
   "mimetype": "text/x-python",
   "name": "python",
   "nbconvert_exporter": "python",
   "pygments_lexer": "ipython3",
   "version": "3.10.13"
  }
 },
 "nbformat": 4,
 "nbformat_minor": 2
}
